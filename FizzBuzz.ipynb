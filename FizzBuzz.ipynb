{
 "cells": [
  {
   "cell_type": "markdown",
   "metadata": {},
   "source": [
    "FizzBuzz実装していく。\n",
    "そもそもどういうルールでしたか・・・。\n",
    "3の倍数でFizz、５の倍数でBuzz、３と５の倍数で　FizzBuzzでそれ以外の場合は数値を返すいい？？…ということで。"
   ]
  },
  {
   "cell_type": "code",
   "execution_count": 25,
   "metadata": {},
   "outputs": [
    {
     "name": "stdout",
     "output_type": "stream",
     "text": [
      "range start:69->end:414\n",
      "['Fizz', 'Buzz', 71, 'Fizz', 73, 74, 'FizzBuzz', 76, 77, 'Fizz', 79, 'Buzz', 'Fizz', 82, 83, 'Fizz', 'Buzz', 86, 'Fizz', 88, 89, 'FizzBuzz', 91, 92, 'Fizz', 94, 'Buzz', 'Fizz', 97, 98, 'Fizz', 'Buzz', 101, 'Fizz', 103, 104, 'FizzBuzz', 106, 107, 'Fizz', 109, 'Buzz', 'Fizz', 112, 113, 'Fizz', 'Buzz', 116, 'Fizz', 118, 119, 'FizzBuzz', 121, 122, 'Fizz', 124, 'Buzz', 'Fizz', 127, 128, 'Fizz', 'Buzz', 131, 'Fizz', 133, 134, 'FizzBuzz', 136, 137, 'Fizz', 139, 'Buzz', 'Fizz', 142, 143, 'Fizz', 'Buzz', 146, 'Fizz', 148, 149, 'FizzBuzz', 151, 152, 'Fizz', 154, 'Buzz', 'Fizz', 157, 158, 'Fizz', 'Buzz', 161, 'Fizz', 163, 164, 'FizzBuzz', 166, 167, 'Fizz', 169, 'Buzz', 'Fizz', 172, 173, 'Fizz', 'Buzz', 176, 'Fizz', 178, 179, 'FizzBuzz', 181, 182, 'Fizz', 184, 'Buzz', 'Fizz', 187, 188, 'Fizz', 'Buzz', 191, 'Fizz', 193, 194, 'FizzBuzz', 196, 197, 'Fizz', 199, 'Buzz', 'Fizz', 202, 203, 'Fizz', 'Buzz', 206, 'Fizz', 208, 209, 'FizzBuzz', 211, 212, 'Fizz', 214, 'Buzz', 'Fizz', 217, 218, 'Fizz', 'Buzz', 221, 'Fizz', 223, 224, 'FizzBuzz', 226, 227, 'Fizz', 229, 'Buzz', 'Fizz', 232, 233, 'Fizz', 'Buzz', 236, 'Fizz', 238, 239, 'FizzBuzz', 241, 242, 'Fizz', 244, 'Buzz', 'Fizz', 247, 248, 'Fizz', 'Buzz', 251, 'Fizz', 253, 254, 'FizzBuzz', 256, 257, 'Fizz', 259, 'Buzz', 'Fizz', 262, 263, 'Fizz', 'Buzz', 266, 'Fizz', 268, 269, 'FizzBuzz', 271, 272, 'Fizz', 274, 'Buzz', 'Fizz', 277, 278, 'Fizz', 'Buzz', 281, 'Fizz', 283, 284, 'FizzBuzz', 286, 287, 'Fizz', 289, 'Buzz', 'Fizz', 292, 293, 'Fizz', 'Buzz', 296, 'Fizz', 298, 299, 'FizzBuzz', 301, 302, 'Fizz', 304, 'Buzz', 'Fizz', 307, 308, 'Fizz', 'Buzz', 311, 'Fizz', 313, 314, 'FizzBuzz', 316, 317, 'Fizz', 319, 'Buzz', 'Fizz', 322, 323, 'Fizz', 'Buzz', 326, 'Fizz', 328, 329, 'FizzBuzz', 331, 332, 'Fizz', 334, 'Buzz', 'Fizz', 337, 338, 'Fizz', 'Buzz', 341, 'Fizz', 343, 344, 'FizzBuzz', 346, 347, 'Fizz', 349, 'Buzz', 'Fizz', 352, 353, 'Fizz', 'Buzz', 356, 'Fizz', 358, 359, 'FizzBuzz', 361, 362, 'Fizz', 364, 'Buzz', 'Fizz', 367, 368, 'Fizz', 'Buzz', 371, 'Fizz', 373, 374, 'FizzBuzz', 376, 377, 'Fizz', 379, 'Buzz', 'Fizz', 382, 383, 'Fizz', 'Buzz', 386, 'Fizz', 388, 389, 'FizzBuzz', 391, 392, 'Fizz', 394, 'Buzz', 'Fizz', 397, 398, 'Fizz', 'Buzz', 401, 'Fizz', 403, 404, 'FizzBuzz', 406, 407, 'Fizz', 409, 'Buzz', 'Fizz', 412, 413]\n"
     ]
    }
   ],
   "source": [
    "import numpy as np\n",
    "\n",
    "def fizzBuzz(min, max):\n",
    "    results = []\n",
    "    for i in range(min, max):\n",
    "        # FizzBuzz -> Fizz -> Buzzの順でチェック\n",
    "        if i % 15 == 0:\n",
    "            results.append('FizzBuzz')\n",
    "        elif i % 3 == 0:\n",
    "            results.append('Fizz')\n",
    "        elif i % 5 == 0:\n",
    "            results.append('Buzz')\n",
    "        else:\n",
    "            results.append(i)\n",
    "\n",
    "    return results\n",
    "min = np.random.randint(1, 1000)\n",
    "max = np.random.randint(min, 1000)\n",
    "# '合計：{}円'.format(total)\n",
    "print('range start:{}->end:{}'.format(min, max))\n",
    "results = fizzBuzz(min, max)\n",
    "print(results)"
   ]
  }
 ],
 "metadata": {
  "kernelspec": {
   "display_name": "Python 3",
   "language": "python",
   "name": "python3"
  },
  "language_info": {
   "codemirror_mode": {
    "name": "ipython",
    "version": 3
   },
   "file_extension": ".py",
   "mimetype": "text/x-python",
   "name": "python",
   "nbconvert_exporter": "python",
   "pygments_lexer": "ipython3",
   "version": "3.6.5"
  }
 },
 "nbformat": 4,
 "nbformat_minor": 2
}
