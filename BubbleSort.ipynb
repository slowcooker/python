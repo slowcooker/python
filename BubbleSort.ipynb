{
 "cells": [
  {
   "cell_type": "markdown",
   "metadata": {},
   "source": [
    "バブルソートを実装してみる。"
   ]
  },
  {
   "cell_type": "code",
   "execution_count": 58,
   "metadata": {},
   "outputs": [
    {
     "name": "stdout",
     "output_type": "stream",
     "text": [
      "[65 82 39 26 82 11 48 62 66 44 58 98 12 41 46 98 95 86 72 36 61 85 10 81\n",
      " 69  9 20 34 64 68 28  2 41 71 57  6 90 28 22 92]\n"
     ]
    }
   ],
   "source": [
    "# numpyを使う。\n",
    "import numpy as np\n",
    "\n",
    "arr = np.random.randint(1,100,40)\n",
    "print(arr)"
   ]
  },
  {
   "cell_type": "code",
   "execution_count": 59,
   "metadata": {},
   "outputs": [
    {
     "name": "stdout",
     "output_type": "stream",
     "text": [
      "Start [65 82 39 26 82 11 48 62 66 44 58 98 12 41 46 98 95 86 72 36 61 85 10 81\n",
      " 69  9 20 34 64 68 28  2 41 71 57  6 90 28 22 92]\n",
      "Result [ 2  6  9 10 11 12 20 22 26 28 28 34 36 39 41 41 44 46 48 57 58 61 62 64\n",
      " 65 66 68 69 71 72 81 82 82 85 86 90 92 95 98 98]\n"
     ]
    }
   ],
   "source": [
    "def quickSort (array = []) :\n",
    "    if len(array) == 0:\n",
    "        print(\"配列が空だよ\")\n",
    "        return\n",
    "    while True :\n",
    "        isFinished = True\n",
    "        for i in range(0, len(arr)):\n",
    "            if i == 0: # listの一番目は無視\n",
    "                continue\n",
    "            before = array[i - 1]\n",
    "            present = array[i]\n",
    "            if (before > present):\n",
    "                array[i - 1] = present\n",
    "                array[i] = before\n",
    "                isFinished = False\n",
    "        if isFinished:\n",
    "            break\n",
    "    return array\n",
    "    \n",
    "print(\"Start\", arr)\n",
    "result = quickSort(arr)\n",
    "print(\"Result\", result)"
   ]
  }
 ],
 "metadata": {
  "kernelspec": {
   "display_name": "Python 3",
   "language": "python",
   "name": "python3"
  },
  "language_info": {
   "codemirror_mode": {
    "name": "ipython",
    "version": 3
   },
   "file_extension": ".py",
   "mimetype": "text/x-python",
   "name": "python",
   "nbconvert_exporter": "python",
   "pygments_lexer": "ipython3",
   "version": "3.6.5"
  }
 },
 "nbformat": 4,
 "nbformat_minor": 2
}
