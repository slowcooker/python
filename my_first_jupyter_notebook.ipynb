{
 "cells": [
  {
   "cell_type": "markdown",
   "metadata": {},
   "source": [
    "jupyter notebook 事始め"
   ]
  },
  {
   "cell_type": "code",
   "execution_count": null,
   "metadata": {},
   "outputs": [],
   "source": [
    "print('Hello jupyter notebool')"
   ]
  },
  {
   "cell_type": "markdown",
   "metadata": {},
   "source": [
    "配列の定義"
   ]
  },
  {
   "cell_type": "code",
   "execution_count": 9,
   "metadata": {},
   "outputs": [
    {
     "name": "stdout",
     "output_type": "stream",
     "text": [
      "Type: <class 'list'>\n",
      "Content [1, 2, 3]\n"
     ]
    }
   ],
   "source": [
    "a = [1,2,3]\n",
    "print('Type:', type(a))\n",
    "print('Content', a)"
   ]
  },
  {
   "cell_type": "markdown",
   "metadata": {},
   "source": [
    "多次元配列"
   ]
  },
  {
   "cell_type": "code",
   "execution_count": 10,
   "metadata": {},
   "outputs": [
    {
     "name": "stdout",
     "output_type": "stream",
     "text": [
      "Type: <class 'list'>\n",
      "Content [[1, 2], [3, 4], [5, 6], [7, 8]]\n"
     ]
    }
   ],
   "source": [
    "a = [\n",
    "    [1,2],\n",
    "    [3,4],\n",
    "    [5,6],\n",
    "    [7,8],\n",
    "]\n",
    "print('Type:', type(a))\n",
    "print('Content', a)"
   ]
  },
  {
   "cell_type": "markdown",
   "metadata": {},
   "source": [
    "文字列結合"
   ]
  },
  {
   "cell_type": "code",
   "execution_count": 11,
   "metadata": {},
   "outputs": [
    {
     "name": "stdout",
     "output_type": "stream",
     "text": [
      "HelloWorld\n"
     ]
    }
   ],
   "source": [
    "a = 'Hello'\n",
    "b = 'World'\n",
    "print(a + b)"
   ]
  },
  {
   "cell_type": "markdown",
   "metadata": {},
   "source": [
    "文字列分割"
   ]
  },
  {
   "cell_type": "code",
   "execution_count": 12,
   "metadata": {},
   "outputs": [
    {
     "name": "stdout",
     "output_type": "stream",
     "text": [
      "['Lorem', 'ipsum', 'dolor', 'sit', 'amet,', 'consectetur', 'adipiscing', 'elit,', 'sed', 'do', 'eiusmod', 'tempor', 'incididunt', 'ut', 'labore', 'et', 'dolore', 'magna', 'aliqua.', 'Ut', 'enim', 'ad', 'minim', 'veniam,', 'quis', 'nostrud', 'exercitation', 'ullamco', 'laboris', 'nisi', 'ut', 'aliquip', 'ex', 'ea', 'commodo', 'consequat.', 'Duis', 'aute', 'irure', 'dolor', 'in', 'reprehenderit', 'in', 'voluptate', 'velit', 'esse', 'cillum', 'dolore', 'eu', 'fugiat', 'nulla', 'pariatur.', 'Excepteur', 'sint', 'occaecat', 'cupidatat', 'non', 'proident,', 'sunt', 'in', 'culpa', 'qui', 'officia', 'deserunt', 'mollit', 'anim', 'id', 'est', 'laborum.']\n"
     ]
    }
   ],
   "source": [
    "lorem = 'Lorem ipsum dolor sit amet, consectetur adipiscing elit, sed do eiusmod tempor incididunt ut labore et dolore magna aliqua. Ut enim ad minim veniam, quis nostrud exercitation ullamco laboris nisi ut aliquip ex ea commodo consequat. Duis aute irure dolor in reprehenderit in voluptate velit esse cillum dolore eu fugiat nulla pariatur. Excepteur sint occaecat cupidatat non proident, sunt in culpa qui officia deserunt mollit anim id est laborum.'\n",
    "arr = lorem.split(' ')\n",
    "print(arr)"
   ]
  },
  {
   "cell_type": "markdown",
   "metadata": {},
   "source": [
    "全ての文字を大文字にする。"
   ]
  },
  {
   "cell_type": "code",
   "execution_count": 13,
   "metadata": {},
   "outputs": [
    {
     "name": "stdout",
     "output_type": "stream",
     "text": [
      "LOREM\n",
      "IPSUM\n",
      "DOLOR\n",
      "SIT\n",
      "AMET,\n",
      "CONSECTETUR\n",
      "ADIPISCING\n",
      "ELIT,\n",
      "SED\n",
      "DO\n",
      "EIUSMOD\n",
      "TEMPOR\n",
      "INCIDIDUNT\n",
      "UT\n",
      "LABORE\n",
      "ET\n",
      "DOLORE\n",
      "MAGNA\n",
      "ALIQUA.\n",
      "UT\n",
      "ENIM\n",
      "AD\n",
      "MINIM\n",
      "VENIAM,\n",
      "QUIS\n",
      "NOSTRUD\n",
      "EXERCITATION\n",
      "ULLAMCO\n",
      "LABORIS\n",
      "NISI\n",
      "UT\n",
      "ALIQUIP\n",
      "EX\n",
      "EA\n",
      "COMMODO\n",
      "CONSEQUAT.\n",
      "DUIS\n",
      "AUTE\n",
      "IRURE\n",
      "DOLOR\n",
      "IN\n",
      "REPREHENDERIT\n",
      "IN\n",
      "VOLUPTATE\n",
      "VELIT\n",
      "ESSE\n",
      "CILLUM\n",
      "DOLORE\n",
      "EU\n",
      "FUGIAT\n",
      "NULLA\n",
      "PARIATUR.\n",
      "EXCEPTEUR\n",
      "SINT\n",
      "OCCAECAT\n",
      "CUPIDATAT\n",
      "NON\n",
      "PROIDENT,\n",
      "SUNT\n",
      "IN\n",
      "CULPA\n",
      "QUI\n",
      "OFFICIA\n",
      "DESERUNT\n",
      "MOLLIT\n",
      "ANIM\n",
      "ID\n",
      "EST\n",
      "LABORUM.\n"
     ]
    }
   ],
   "source": [
    "for str in arr:\n",
    "    print(str.upper())"
   ]
  }
 ],
 "metadata": {
  "kernelspec": {
   "display_name": "Python 3",
   "language": "python",
   "name": "python3"
  },
  "language_info": {
   "codemirror_mode": {
    "name": "ipython",
    "version": 3
   },
   "file_extension": ".py",
   "mimetype": "text/x-python",
   "name": "python",
   "nbconvert_exporter": "python",
   "pygments_lexer": "ipython3",
   "version": "3.6.5"
  }
 },
 "nbformat": 4,
 "nbformat_minor": 2
}
